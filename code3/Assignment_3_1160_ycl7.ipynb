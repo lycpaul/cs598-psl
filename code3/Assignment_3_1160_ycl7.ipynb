{
 "cells": [
  {
   "cell_type": "markdown",
   "metadata": {},
   "source": [
    "### (PSL) Coding Assignment 3\n",
    "\n",
    "#### Member\n",
    "| Field         | Value                |\n",
    "|---------------|----------------------|\n",
    "| Name          | Lee Yu Chung, Paul   |\n",
    "| UID           | 665451160            |\n",
    "| NetID         | ycl7                 |\n",
    "| Program       | MCS-DS               |\n",
    "| Contributions | 100%                 |\n",
    "\n"
   ]
  },
  {
   "cell_type": "markdown",
   "metadata": {},
   "source": [
    "### Part I: Optimal span for LOESS"
   ]
  },
  {
   "cell_type": "markdown",
   "metadata": {},
   "source": [
    "### Part II: Ridgeless and double d"
   ]
  },
  {
   "cell_type": "markdown",
   "metadata": {},
   "source": [
    "### Part III: Clustering time series"
   ]
  },
  {
   "cell_type": "code",
   "execution_count": null,
   "metadata": {},
   "outputs": [],
   "source": []
  }
 ],
 "metadata": {
  "language_info": {
   "name": "python"
  }
 },
 "nbformat": 4,
 "nbformat_minor": 2
}
